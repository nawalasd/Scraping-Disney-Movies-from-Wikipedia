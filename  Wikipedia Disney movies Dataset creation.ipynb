{
 "cells": [
  {
   "cell_type": "markdown",
   "id": "272f9b56",
   "metadata": {},
   "source": [
    "### Plan of action : \n",
    "1. Scrape all Disney movies from 1937 to 2023 using Beautiful Soup and Requests \n",
    "\n",
    "\n",
    "\n",
    "2. Collect relevant movie attributes (e.g. title, cast, director, genre) and use an API like TMDb to obtain IMDb scores and audience ratings.\n",
    "\n",
    "\n",
    "\n",
    "\n",
    "3. Clean and preprocess the data by removing duplicates, filling in missing values, standardizing data types, and converting text data into numerical or categorical data as needed.\n",
    "\n",
    "\n",
    "\n",
    "\n",
    "4. Analyze the data using Matplotlib and Seaborn to find patterns such as box office trends, cast member success rates, and rating correlations."
   ]
  },
  {
   "cell_type": "markdown",
   "id": "b39bb297",
   "metadata": {},
   "source": [
    "### Importing libraries "
   ]
  },
  {
   "cell_type": "code",
   "execution_count": 375,
   "id": "920e974f",
   "metadata": {},
   "outputs": [],
   "source": [
    "#web scraping tools\n",
    "from bs4 import BeautifulSoup as bs \n",
    "from selenium import webdriver\n",
    "import requests \n",
    "\n",
    "# Data manipulation and analysis\n",
    "import pandas as pd \n",
    "\n",
    "#  Data visualization\n",
    "import seaborn as sns \n",
    "import matplotlib.pyplot as plt \n",
    "\n",
    "# Data storing\n",
    "import pickle \n",
    "import json\n",
    "\n",
    "# String manipulation \n",
    "import re \n",
    "\n",
    "#\n",
    "from tqdm import tqdm\n"
   ]
  },
  {
   "cell_type": "markdown",
   "id": "7c130bf4",
   "metadata": {},
   "source": [
    "### First step before starting project"
   ]
  },
  {
   "cell_type": "code",
   "execution_count": 12,
   "id": "b9f082ba",
   "metadata": {},
   "outputs": [],
   "source": [
    "#website link : \n",
    "website = 'https://en.wikipedia.org/wiki/List_of_Walt_Disney_Pictures_films#Released'\n",
    "\n",
    "# requesting data from website\n",
    "response = requests.get(website)\n",
    "\n",
    "# creating soup object to parse the HTML content of a web page\n",
    "soup = bs(response.text,'lxml')"
   ]
  },
  {
   "cell_type": "markdown",
   "id": "0773dfa8",
   "metadata": {},
   "source": [
    "---\n",
    "## Task 1 :   Get the list of all disney movies "
   ]
  },
  {
   "cell_type": "code",
   "execution_count": 83,
   "id": "00cda6a9",
   "metadata": {},
   "outputs": [
    {
     "name": "stdout",
     "output_type": "stream",
     "text": [
      "total number of movies : 510 \n",
      "\n",
      "first 5 movies : \n",
      "['Snow White and the Seven Dwarfs', 'Pinocchio', 'Fantasia', 'The Reluctant Dragon', 'Dumbo']\n"
     ]
    }
   ],
   "source": [
    "# Code to get total list of movies till December 9, 2022 \n",
    "\n",
    "all_table = soup.find_all('table', class_ = 'wikitable sortable')[:-2]\n",
    "\n",
    "lst = []\n",
    "for eachtable in all_table :\n",
    "    \n",
    "    movie_list = eachtable.find_all('i')\n",
    "    \n",
    "    for eachmovie in movie_list : \n",
    "        lst.append(eachmovie.get_text())\n",
    "\n",
    "print(f\"total number of movies : {len(lst)} \")\n",
    "print()\n",
    "print('first 5 movies : ')\n",
    "print(lst[:5])\n"
   ]
  },
  {
   "cell_type": "markdown",
   "id": "ffd2cb3c",
   "metadata": {},
   "source": [
    "--- \n",
    "\n",
    "## Task 2 : Grabbing info box for all movies : "
   ]
  },
  {
   "cell_type": "markdown",
   "id": "82fb4745",
   "metadata": {},
   "source": [
    "#### Function to extract each movie details"
   ]
  },
  {
   "cell_type": "code",
   "execution_count": 612,
   "id": "640b8186",
   "metadata": {},
   "outputs": [],
   "source": [
    "# function to extract content\n",
    "def get_header_details(details) : \n",
    "\n",
    "    # if there is list \n",
    "    if details.find('ul') : \n",
    "        return [d.get_text(strip = True) for d  in details.find_all('li')]\n",
    "    \n",
    "    # if there is a tag\n",
    "    elif details.find('a') :\n",
    "        return [d.get_text() for d in details.find_all('a')]\n",
    "    \n",
    "    else :\n",
    "\n",
    "        return details.get_text(strip = True)\n",
    "    \n",
    "\n",
    "    \n",
    "# removing sup  and span tag   \n",
    "def clear_tags(table) :\n",
    "    for tag in table.find_all(['sup','span']):\n",
    "\n",
    "        tag.decompose()\n",
    "\n",
    "        \n",
    "# Extracting details of each movie\n",
    "def  get_infobox(movie_soup) : \n",
    "    \n",
    "    # Extracting main table \n",
    "    table = movie_soup.find('table', attrs={'class', 'infobox vevent'})\n",
    "\n",
    "    # save each movie detail\n",
    "    movie_dict = {} \n",
    "    \n",
    "    clear_tags(table)\n",
    "\n",
    "    for i,each_row  in enumerate(table.find_all('tr')) :     \n",
    "\n",
    "        if i == 0  : \n",
    "            col_headers.append('title')\n",
    "            movie_dict['title'] = each_row.get_text()\n",
    "\n",
    "        # for image \n",
    "        elif i == 1 :\n",
    "            continue\n",
    "\n",
    "\n",
    "        else : \n",
    "            # if there is 'th' tag\n",
    "            if each_row.find('th') :\n",
    "\n",
    "\n",
    "\n",
    "                if 'Directed' in each_row.find('th').get_text()   : \n",
    "                    movie_dict['Director'] =  get_header_details(each_row.find('td'))\n",
    "\n",
    "\n",
    "\n",
    "                elif 'Written' in each_row.find('th').get_text()   : \n",
    "                    movie_dict['Writers'] =  get_header_details(each_row.find('td'))\n",
    "\n",
    "                elif 'Produced' in each_row.find('th').get_text()   : \n",
    "\n",
    "                    movie_dict['Producers'] =  get_header_details(each_row.find('td'))\n",
    "\n",
    "                elif 'Starring' in each_row.find('th').get_text()   : \n",
    "\n",
    "                    movie_dict['Starring'] =  get_header_details(each_row.find('td'))\n",
    "\n",
    "                elif 'Production' in each_row.find('th').get_text()   : \n",
    "\n",
    "                    movie_dict['Production company'] =  get_header_details(each_row.find('td'))\n",
    "\n",
    "                elif 'Release' in each_row.find('th').get_text()   : \n",
    "\n",
    "                    movie_dict['Release_date'] =  get_header_details(each_row.find('td'))\n",
    "\n",
    "                elif 'Running' in each_row.find('th').get_text()   : \n",
    "\n",
    "                    movie_dict['Running_time'] =  get_header_details(each_row.find('td'))\n",
    "\n",
    "                elif 'Country' in each_row.find('th').get_text()   : \n",
    "\n",
    "                    movie_dict['Country'] =  get_header_details(each_row.find('td'))\n",
    "\n",
    "                elif 'language' in each_row.find('th').get_text()   : \n",
    "\n",
    "                    movie_dict['language'] =  get_header_details(each_row.find('td'))\n",
    "\n",
    "                elif 'Budget' in each_row.find('th').get_text()   : \n",
    "\n",
    "                    movie_dict['Budget'] =  get_header_details(each_row.find('td'))\n",
    "\n",
    "                elif 'Box' in each_row.find('th').get_text()   : \n",
    "\n",
    "                    movie_dict['Box_office'] =  get_header_details(each_row.find('td'))\n",
    "\n",
    "    return movie_dict\n",
    "    \n",
    "    \n",
    "    "
   ]
  },
  {
   "cell_type": "markdown",
   "id": "dfc83d6e",
   "metadata": {},
   "source": [
    "#### Code to get all movie links "
   ]
  },
  {
   "cell_type": "code",
   "execution_count": null,
   "id": "b096650c",
   "metadata": {},
   "outputs": [],
   "source": [
    "#------------------------------------------------------------------------------------------\n",
    "\n",
    "#website link : \n",
    "website = 'https://en.wikipedia.org/wiki/List_of_Walt_Disney_Pictures_films#Released'\n",
    "\n",
    "# requesting data from website\n",
    "response = requests.get(website)\n",
    "\n",
    "# creating soup object to parse the HTML content of a web page\n",
    "soup = bs(response.text,'lxml')\n",
    "\n",
    "#------------------------------------------------------------------------------------------\n",
    "\n",
    "main_web_link = 'https://en.wikipedia.org'\n",
    "\n",
    "movie_links =  []\n",
    "all_movies_list = []\n",
    "\n",
    "all_tables = soup.select('table.wikitable.sortable i a')\n",
    "\n",
    "# Store movie links in list \n",
    "for eachmovie in all_tables : \n",
    "    \n",
    "    # we only need movies which released \n",
    "    if eachmovie['href'] == '/wiki/Chang_Can_Dunk' : \n",
    "        break\n",
    "    \n",
    "    half_path = eachmovie['href']\n",
    "    full_path = main_web_link + half_path\n",
    "    movie_links.append(full_path)\n",
    "\n",
    "    \n",
    "    \n",
    "# Loop through each movie and get details\n",
    "for eachmovie in tqdm(movie_links):\n",
    "\n",
    "    # parsing html content from the page\n",
    "    response = requests.get(eachmovie)\n",
    "    movie_soup = bs(response.text,'lxml')\n",
    "\n",
    "    try  : \n",
    "\n",
    "        #function to get info box of each movie ( all the details)\n",
    "        eachmovie_dict = get_infobox(movie_soup)\n",
    "\n",
    "        all_movies_list.append(eachmovie_dict)\n",
    "\n",
    "    except Exception as e : \n",
    "        print(eachmovie)\n",
    "        print(e)\n",
    "        \n"
   ]
  },
  {
   "cell_type": "markdown",
   "id": "861fe507",
   "metadata": {},
   "source": [
    "#### List contaning all movies list which need to be cleaned : "
   ]
  },
  {
   "cell_type": "code",
   "execution_count": null,
   "id": "954e0d26",
   "metadata": {},
   "outputs": [],
   "source": [
    "all_movies_list"
   ]
  },
  {
   "cell_type": "markdown",
   "id": "3a02fce8",
   "metadata": {},
   "source": [
    "#### Saving in pandas data frame :"
   ]
  },
  {
   "cell_type": "code",
   "execution_count": 620,
   "id": "fe194a2c",
   "metadata": {},
   "outputs": [
    {
     "data": {
      "text/html": [
       "<div>\n",
       "<style scoped>\n",
       "    .dataframe tbody tr th:only-of-type {\n",
       "        vertical-align: middle;\n",
       "    }\n",
       "\n",
       "    .dataframe tbody tr th {\n",
       "        vertical-align: top;\n",
       "    }\n",
       "\n",
       "    .dataframe thead th {\n",
       "        text-align: right;\n",
       "    }\n",
       "</style>\n",
       "<table border=\"1\" class=\"dataframe\">\n",
       "  <thead>\n",
       "    <tr style=\"text-align: right;\">\n",
       "      <th></th>\n",
       "      <th>title</th>\n",
       "      <th>Director</th>\n",
       "      <th>Writers</th>\n",
       "      <th>Producers</th>\n",
       "      <th>Starring</th>\n",
       "      <th>Production company</th>\n",
       "      <th>Release_date</th>\n",
       "      <th>Running_time</th>\n",
       "      <th>Country</th>\n",
       "      <th>Budget</th>\n",
       "      <th>Box_office</th>\n",
       "    </tr>\n",
       "  </thead>\n",
       "  <tbody>\n",
       "    <tr>\n",
       "      <th>0</th>\n",
       "      <td>Snow White and the Seven Dwarfs</td>\n",
       "      <td>[David Hand, William Cottrell, Wilfred Jackson, Larry Morey, Perce Pearce, Ben Sharpsteen]</td>\n",
       "      <td>[Ted Sears, Richard Creedon, Otto Englander, Dick Rickard, Earl Hurd, Merrill De Maris, Dorothy Ann Blank, Webb Smith]</td>\n",
       "      <td>[Walt Disney]</td>\n",
       "      <td>[Adriana Caselotti, Lucille La Verne, Harry Stockwell, Roy Atwell, Pinto Colvig, Otis Harlan, Scotty Mattraw, Billy Gilbert, Eddie Collins, Moroni Olsen, Stuart Buchanan]</td>\n",
       "      <td>[Walt Disney Productions]</td>\n",
       "      <td>[December 21, 1937(Carthay Circle Theatre), February 4, 1938(United States)]</td>\n",
       "      <td>83 minutes</td>\n",
       "      <td>United States</td>\n",
       "      <td>$1.49 million</td>\n",
       "      <td>$418 million</td>\n",
       "    </tr>\n",
       "    <tr>\n",
       "      <th>1</th>\n",
       "      <td>Pinocchio</td>\n",
       "      <td>[Ben Sharpsteen, Hamilton Luske, Bill Roberts, Norman Ferguson, Jack Kinney, Wilfred Jackson, T. Hee]</td>\n",
       "      <td>NaN</td>\n",
       "      <td>[Walt Disney]</td>\n",
       "      <td>[Cliff Edwards, Dickie Jones, Christian Rub, Walter Catlett, Charles Judels, Evelyn Venable, Frankie Darro]</td>\n",
       "      <td>[Walt Disney Productions]</td>\n",
       "      <td>[February 7, 1940(Center Theatre), February 23, 1940(United States)]</td>\n",
       "      <td>88 minutes</td>\n",
       "      <td>United States</td>\n",
       "      <td>$2.6 million</td>\n",
       "      <td>$164 million</td>\n",
       "    </tr>\n",
       "  </tbody>\n",
       "</table>\n",
       "</div>"
      ],
      "text/plain": [
       "                             title  \\\n",
       "0  Snow White and the Seven Dwarfs   \n",
       "1                        Pinocchio   \n",
       "\n",
       "                                                                                                Director  \\\n",
       "0             [David Hand, William Cottrell, Wilfred Jackson, Larry Morey, Perce Pearce, Ben Sharpsteen]   \n",
       "1  [Ben Sharpsteen, Hamilton Luske, Bill Roberts, Norman Ferguson, Jack Kinney, Wilfred Jackson, T. Hee]   \n",
       "\n",
       "                                                                                                                  Writers  \\\n",
       "0  [Ted Sears, Richard Creedon, Otto Englander, Dick Rickard, Earl Hurd, Merrill De Maris, Dorothy Ann Blank, Webb Smith]   \n",
       "1                                                                                                                     NaN   \n",
       "\n",
       "       Producers  \\\n",
       "0  [Walt Disney]   \n",
       "1  [Walt Disney]   \n",
       "\n",
       "                                                                                                                                                                     Starring  \\\n",
       "0  [Adriana Caselotti, Lucille La Verne, Harry Stockwell, Roy Atwell, Pinto Colvig, Otis Harlan, Scotty Mattraw, Billy Gilbert, Eddie Collins, Moroni Olsen, Stuart Buchanan]   \n",
       "1                                                                 [Cliff Edwards, Dickie Jones, Christian Rub, Walter Catlett, Charles Judels, Evelyn Venable, Frankie Darro]   \n",
       "\n",
       "          Production company  \\\n",
       "0  [Walt Disney Productions]   \n",
       "1  [Walt Disney Productions]   \n",
       "\n",
       "                                                                   Release_date  \\\n",
       "0  [December 21, 1937(Carthay Circle Theatre), February 4, 1938(United States)]   \n",
       "1          [February 7, 1940(Center Theatre), February 23, 1940(United States)]   \n",
       "\n",
       "  Running_time        Country         Budget    Box_office  \n",
       "0   83 minutes  United States  $1.49 million  $418 million  \n",
       "1   88 minutes  United States   $2.6 million  $164 million  "
      ]
     },
     "execution_count": 620,
     "metadata": {},
     "output_type": "execute_result"
    }
   ],
   "source": [
    "disney_movies_unclean_df = pd.DataFrame(all_movies_list)\n",
    "\n",
    "disney_movies_unclean_df.head(2)"
   ]
  },
  {
   "cell_type": "markdown",
   "id": "11c746c2",
   "metadata": {},
   "source": [
    "> This is our unclean Dataset of disney movies"
   ]
  },
  {
   "cell_type": "markdown",
   "id": "1138647b",
   "metadata": {},
   "source": [
    "#### Overview of disney movies data set (unclean) : \n",
    "\n",
    "1. No of columns \n",
    "2. No of rows "
   ]
  },
  {
   "cell_type": "code",
   "execution_count": 644,
   "id": "3612474e",
   "metadata": {},
   "outputs": [
    {
     "name": "stdout",
     "output_type": "stream",
     "text": [
      "No of columns : 509\n",
      "No of rows : 11 \n",
      "\n",
      "**************************************************\n",
      "Names of columns : \n",
      "title\n",
      "Director\n",
      "Writers\n",
      "Producers\n",
      "Starring\n",
      "Production company\n",
      "Release_date\n",
      "Running_time\n",
      "Country\n",
      "Budget\n",
      "Box_office\n",
      "**************************************************\n"
     ]
    }
   ],
   "source": [
    "print(f\"No of columns : {disney_movies_unclean_df.shape[0]}\")\n",
    "print(f\"No of rows : {disney_movies_unclean_df.shape[1]} \\n\")\n",
    "\n",
    "print('*' * 50)\n",
    "\n",
    "print('Names of columns : ')\n",
    "\n",
    "for col in disney_movies_unclean_df.columns : \n",
    "    print(col)\n",
    "\n",
    "print('*' * 50)"
   ]
  },
  {
   "cell_type": "markdown",
   "id": "a53fce9d",
   "metadata": {},
   "source": [
    "#### Saving unclean dataset in .csv file"
   ]
  },
  {
   "cell_type": "code",
   "execution_count": null,
   "id": "c4f13605",
   "metadata": {},
   "outputs": [],
   "source": [
    "disney_movies_unclean_df.to_csv('disney_movies_unclean.csv',index= 'False')"
   ]
  },
  {
   "cell_type": "markdown",
   "id": "44bf6d9c",
   "metadata": {},
   "source": [
    "---\n",
    "# Task 3 : Data cleaning (Most imp) \n",
    "---\n",
    "\n",
    "* Columns __[Release_date,Running_time,Budget,Box_office]__ needs to be cleaned for data analysis\n",
    "* We need to convert columns  in to its right format "
   ]
  },
  {
   "cell_type": "code",
   "execution_count": 674,
   "id": "6e2596e6",
   "metadata": {},
   "outputs": [
    {
     "data": {
      "text/html": [
       "<div>\n",
       "<style scoped>\n",
       "    .dataframe tbody tr th:only-of-type {\n",
       "        vertical-align: middle;\n",
       "    }\n",
       "\n",
       "    .dataframe tbody tr th {\n",
       "        vertical-align: top;\n",
       "    }\n",
       "\n",
       "    .dataframe thead th {\n",
       "        text-align: right;\n",
       "    }\n",
       "</style>\n",
       "<table border=\"1\" class=\"dataframe\">\n",
       "  <thead>\n",
       "    <tr style=\"text-align: right;\">\n",
       "      <th></th>\n",
       "      <th>title</th>\n",
       "      <th>Director</th>\n",
       "      <th>Writers</th>\n",
       "      <th>Producers</th>\n",
       "      <th>Starring</th>\n",
       "      <th>Production company</th>\n",
       "      <th>Release_date</th>\n",
       "      <th>Running_time</th>\n",
       "      <th>Country</th>\n",
       "      <th>Budget</th>\n",
       "      <th>Box_office</th>\n",
       "    </tr>\n",
       "  </thead>\n",
       "  <tbody>\n",
       "    <tr>\n",
       "      <th>0</th>\n",
       "      <td>Snow White and the Seven Dwarfs</td>\n",
       "      <td>[David Hand, William Cottrell, Wilfred Jackson, Larry Morey, Perce Pearce, Ben Sharpsteen]</td>\n",
       "      <td>[Ted Sears, Richard Creedon, Otto Englander, Dick Rickard, Earl Hurd, Merrill De Maris, Dorothy Ann Blank, Webb Smith]</td>\n",
       "      <td>[Walt Disney]</td>\n",
       "      <td>[Adriana Caselotti, Lucille La Verne, Harry Stockwell, Roy Atwell, Pinto Colvig, Otis Harlan, Scotty Mattraw, Billy Gilbert, Eddie Collins, Moroni Olsen, Stuart Buchanan]</td>\n",
       "      <td>[Walt Disney Productions]</td>\n",
       "      <td>[December 21, 1937(Carthay Circle Theatre), February 4, 1938(United States)]</td>\n",
       "      <td>83 minutes</td>\n",
       "      <td>United States</td>\n",
       "      <td>$1.49 million</td>\n",
       "      <td>$418 million</td>\n",
       "    </tr>\n",
       "  </tbody>\n",
       "</table>\n",
       "</div>"
      ],
      "text/plain": [
       "                             title  \\\n",
       "0  Snow White and the Seven Dwarfs   \n",
       "\n",
       "                                                                                     Director  \\\n",
       "0  [David Hand, William Cottrell, Wilfred Jackson, Larry Morey, Perce Pearce, Ben Sharpsteen]   \n",
       "\n",
       "                                                                                                                  Writers  \\\n",
       "0  [Ted Sears, Richard Creedon, Otto Englander, Dick Rickard, Earl Hurd, Merrill De Maris, Dorothy Ann Blank, Webb Smith]   \n",
       "\n",
       "       Producers  \\\n",
       "0  [Walt Disney]   \n",
       "\n",
       "                                                                                                                                                                     Starring  \\\n",
       "0  [Adriana Caselotti, Lucille La Verne, Harry Stockwell, Roy Atwell, Pinto Colvig, Otis Harlan, Scotty Mattraw, Billy Gilbert, Eddie Collins, Moroni Olsen, Stuart Buchanan]   \n",
       "\n",
       "          Production company  \\\n",
       "0  [Walt Disney Productions]   \n",
       "\n",
       "                                                                   Release_date  \\\n",
       "0  [December 21, 1937(Carthay Circle Theatre), February 4, 1938(United States)]   \n",
       "\n",
       "  Running_time        Country         Budget    Box_office  \n",
       "0   83 minutes  United States  $1.49 million  $418 million  "
      ]
     },
     "execution_count": 674,
     "metadata": {},
     "output_type": "execute_result"
    }
   ],
   "source": [
    "disney_movies_unclean_df.head(1)\n"
   ]
  },
  {
   "cell_type": "markdown",
   "id": "c8428aa7",
   "metadata": {},
   "source": [
    "### 3.1 Release Date :  Data cleaning and formating \n",
    "\n",
    "* Converting date in to datetime object \n",
    "* Removing text part of the date \n",
    "* formating dates "
   ]
  },
  {
   "cell_type": "code",
   "execution_count": 754,
   "id": "b4b430bc",
   "metadata": {},
   "outputs": [
    {
     "data": {
      "text/html": [
       "<div>\n",
       "<style scoped>\n",
       "    .dataframe tbody tr th:only-of-type {\n",
       "        vertical-align: middle;\n",
       "    }\n",
       "\n",
       "    .dataframe tbody tr th {\n",
       "        vertical-align: top;\n",
       "    }\n",
       "\n",
       "    .dataframe thead th {\n",
       "        text-align: right;\n",
       "    }\n",
       "</style>\n",
       "<table border=\"1\" class=\"dataframe\">\n",
       "  <thead>\n",
       "    <tr style=\"text-align: right;\">\n",
       "      <th></th>\n",
       "      <th>Release_date</th>\n",
       "    </tr>\n",
       "  </thead>\n",
       "  <tbody>\n",
       "    <tr>\n",
       "      <th>0</th>\n",
       "      <td>[December 21, 1937(Carthay Circle Theatre), February 4, 1938(United States)]</td>\n",
       "    </tr>\n",
       "    <tr>\n",
       "      <th>1</th>\n",
       "      <td>[February 7, 1940(Center Theatre), February 23, 1940(United States)]</td>\n",
       "    </tr>\n",
       "    <tr>\n",
       "      <th>2</th>\n",
       "      <td>[November 13, 1940]</td>\n",
       "    </tr>\n",
       "    <tr>\n",
       "      <th>3</th>\n",
       "      <td>[June 27, 1941]</td>\n",
       "    </tr>\n",
       "    <tr>\n",
       "      <th>4</th>\n",
       "      <td>[October 23, 1941(New York City), October 31, 1941(U.S.)]</td>\n",
       "    </tr>\n",
       "  </tbody>\n",
       "</table>\n",
       "</div>"
      ],
      "text/plain": [
       "                                                                   Release_date\n",
       "0  [December 21, 1937(Carthay Circle Theatre), February 4, 1938(United States)]\n",
       "1          [February 7, 1940(Center Theatre), February 23, 1940(United States)]\n",
       "2                                                           [November 13, 1940]\n",
       "3                                                               [June 27, 1941]\n",
       "4                     [October 23, 1941(New York City), October 31, 1941(U.S.)]"
      ]
     },
     "execution_count": 754,
     "metadata": {},
     "output_type": "execute_result"
    }
   ],
   "source": [
    "# first 5 rows of release date column : \n",
    "\n",
    "disney_movies_unclean_df['Release_date'].head(5).to_frame()"
   ]
  },
  {
   "cell_type": "code",
   "execution_count": 720,
   "id": "678e8af9",
   "metadata": {},
   "outputs": [],
   "source": []
  },
  {
   "cell_type": "code",
   "execution_count": 737,
   "id": "caef7dab",
   "metadata": {},
   "outputs": [],
   "source": [
    "# datetime library \n",
    "from datetime import datetime\n",
    "import numpy as np\n",
    "\n",
    "#filling missing values with 'N/A'\n",
    "\n",
    "disney_movies_unclean_df['Release_date'].fillna('N/A',inplace = True)\n",
    "\n",
    "#function to clean date  \n",
    "def clean_date(dt) : \n",
    "    return dt.split('(')[0].replace('\\xa0','')\n",
    "\n",
    "\n",
    "# Stored unclean date in to list \n",
    "unclean = list(disney_movies_unclean_df['Release_date'])\n",
    "\n",
    "\n",
    "string_dates = []\n",
    "\n",
    "for dt in unclean : \n",
    "    \n",
    "    if isinstance(dt,list) : \n",
    "        dt = dt[0]\n",
    "\n",
    "    date_str = clean_date(dt)\n",
    "    \n",
    "    date_str = date_str.replace(' ','')\n",
    "    \n",
    "    string_dates.append(date_str.replace(' ',''))\n"
   ]
  },
  {
   "cell_type": "code",
   "execution_count": 738,
   "id": "5d3dc7c8",
   "metadata": {},
   "outputs": [
    {
     "data": {
      "text/plain": [
       "['December21,1937',\n",
       " 'February7,1940',\n",
       " 'November13,1940',\n",
       " 'June27,1941',\n",
       " 'October23,1941']"
      ]
     },
     "execution_count": 738,
     "metadata": {},
     "output_type": "execute_result"
    }
   ],
   "source": [
    "# first 5 rows of string_dates \n",
    "string_dates[:5]"
   ]
  },
  {
   "cell_type": "markdown",
   "id": "552f1af9",
   "metadata": {},
   "source": [
    "####  These are few different formats of date we need to handle : \n",
    " * December21,1937\n",
    " * 26October1953\n",
    " * 13March1952\n",
    " * 1948–1960\n",
    " * 2009\n",
    " * September1988\n",
    " * WinniethePoohandTiggerToo (Needs to be replace with 'N/A')"
   ]
  },
  {
   "cell_type": "code",
   "execution_count": 792,
   "id": "6af0f13a",
   "metadata": {},
   "outputs": [
    {
     "data": {
      "text/html": [
       "<div>\n",
       "<style scoped>\n",
       "    .dataframe tbody tr th:only-of-type {\n",
       "        vertical-align: middle;\n",
       "    }\n",
       "\n",
       "    .dataframe tbody tr th {\n",
       "        vertical-align: top;\n",
       "    }\n",
       "\n",
       "    .dataframe thead th {\n",
       "        text-align: right;\n",
       "    }\n",
       "</style>\n",
       "<table border=\"1\" class=\"dataframe\">\n",
       "  <thead>\n",
       "    <tr style=\"text-align: right;\">\n",
       "      <th></th>\n",
       "      <th>Release_date</th>\n",
       "      <th>Cleaned_release_date</th>\n",
       "    </tr>\n",
       "  </thead>\n",
       "  <tbody>\n",
       "    <tr>\n",
       "      <th>0</th>\n",
       "      <td>[December 21, 1937(Carthay Circle Theatre), February 4, 1938(United States)]</td>\n",
       "      <td>1937-12-21</td>\n",
       "    </tr>\n",
       "    <tr>\n",
       "      <th>1</th>\n",
       "      <td>[February 7, 1940(Center Theatre), February 23, 1940(United States)]</td>\n",
       "      <td>1940-02-07</td>\n",
       "    </tr>\n",
       "    <tr>\n",
       "      <th>2</th>\n",
       "      <td>[November 13, 1940]</td>\n",
       "      <td>1940-11-13</td>\n",
       "    </tr>\n",
       "    <tr>\n",
       "      <th>3</th>\n",
       "      <td>[June 27, 1941]</td>\n",
       "      <td>1941-06-27</td>\n",
       "    </tr>\n",
       "    <tr>\n",
       "      <th>4</th>\n",
       "      <td>[October 23, 1941(New York City), October 31, 1941(U.S.)]</td>\n",
       "      <td>1941-10-23</td>\n",
       "    </tr>\n",
       "  </tbody>\n",
       "</table>\n",
       "</div>"
      ],
      "text/plain": [
       "                                                                   Release_date  \\\n",
       "0  [December 21, 1937(Carthay Circle Theatre), February 4, 1938(United States)]   \n",
       "1          [February 7, 1940(Center Theatre), February 23, 1940(United States)]   \n",
       "2                                                           [November 13, 1940]   \n",
       "3                                                               [June 27, 1941]   \n",
       "4                     [October 23, 1941(New York City), October 31, 1941(U.S.)]   \n",
       "\n",
       "  Cleaned_release_date  \n",
       "0           1937-12-21  \n",
       "1           1940-02-07  \n",
       "2           1940-11-13  \n",
       "3           1941-06-27  \n",
       "4           1941-10-23  "
      ]
     },
     "execution_count": 792,
     "metadata": {},
     "output_type": "execute_result"
    }
   ],
   "source": [
    "date_formats = [\"%B%d,%Y\" , \"%d%B%Y\" , \"%Y\", \"%B%Y\"]\n",
    "clean_dates = []\n",
    "for dt in string_dates : \n",
    "    \n",
    "    for fr in date_formats : \n",
    "        try :\n",
    "\n",
    "            if datetime.strptime(dt,fr).date() : \n",
    "                clean_dates.append(datetime.strptime(dt,fr).date())\n",
    "                break\n",
    "        \n",
    "        except : \n",
    "            pass\n",
    "        \n",
    "    else : clean_dates.append('N/A')\n",
    "    \n",
    "disney_movies_unclean_df['Cleaned_release_date'] = clean_dates\n",
    "disney_movies_unclean_df[['Release_date','Cleaned_release_date']].head(5)"
   ]
  },
  {
   "cell_type": "markdown",
   "id": "bfb4e9b9",
   "metadata": {},
   "source": [
    ">  We have succesfully clean and formatted released dates !!!"
   ]
  },
  {
   "cell_type": "markdown",
   "id": "fca2f5e3",
   "metadata": {},
   "source": [
    "### 3.2 Running time : Data cleaning and formating"
   ]
  },
  {
   "cell_type": "code",
   "execution_count": null,
   "id": "067967a9",
   "metadata": {},
   "outputs": [],
   "source": []
  },
  {
   "cell_type": "code",
   "execution_count": null,
   "id": "35ba9243",
   "metadata": {},
   "outputs": [],
   "source": []
  },
  {
   "cell_type": "code",
   "execution_count": null,
   "id": "83d24c3c",
   "metadata": {},
   "outputs": [],
   "source": []
  },
  {
   "cell_type": "code",
   "execution_count": null,
   "id": "d615b62b",
   "metadata": {},
   "outputs": [],
   "source": []
  },
  {
   "cell_type": "code",
   "execution_count": null,
   "id": "632bcea1",
   "metadata": {},
   "outputs": [],
   "source": []
  },
  {
   "cell_type": "code",
   "execution_count": null,
   "id": "f3a2325e",
   "metadata": {},
   "outputs": [],
   "source": []
  }
 ],
 "metadata": {
  "kernelspec": {
   "display_name": "Python 3 (ipykernel)",
   "language": "python",
   "name": "python3"
  },
  "language_info": {
   "codemirror_mode": {
    "name": "ipython",
    "version": 3
   },
   "file_extension": ".py",
   "mimetype": "text/x-python",
   "name": "python",
   "nbconvert_exporter": "python",
   "pygments_lexer": "ipython3",
   "version": "3.9.13"
  }
 },
 "nbformat": 4,
 "nbformat_minor": 5
}
